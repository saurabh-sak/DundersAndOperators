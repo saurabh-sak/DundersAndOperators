{
  "metadata": {
    "kernelspec": {
      "display_name": "Python 3",
      "language": "python",
      "name": "python3"
    },
    "language_info": {
      "codemirror_mode": {
        "name": "ipython",
        "version": 3
      },
      "file_extension": ".py",
      "mimetype": "text/x-python",
      "name": "python",
      "nbconvert_exporter": "python",
      "pygments_lexer": "ipython3",
      "version": "3.6.8"
    }
  },
  "nbformat": 4,
  "nbformat_minor": 4,
  "cells": [
    {
      "cell_type": "markdown",
      "metadata": {},
      "source": [
        "## Vectors"
      ]
    },
    {
      "cell_type": "markdown",
      "metadata": {},
      "source": [
        "### A simple vector class in python"
      ]
    },
    {
      "cell_type": "code",
      "execution_count": 7,
      "metadata": {},
      "outputs": [],
      "source": [
        "class Vector:\n",
        "    \n",
        "    def __init__(self, lst):\n",
        "        self.storage = lst.copy()\n",
        "        \n",
        "    def __len__(self):\n",
        "        return len(self.storage)\n",
        "    \n",
        "    def __getitem__(self, i):\n",
        "        return self.storage[i]\n",
        "    \n",
        "    def __repr__(self):\n",
        "        return f\"Vector({self.storage})\"\n",
        "\n",
        "v = Vector([3, 4, 5, 6])"
      ]
    },
    {
      "cell_type": "code",
      "execution_count": 8,
      "metadata": {},
      "outputs": [],
      "source": [
        "v"
      ]
    },
    {
      "cell_type": "code",
      "execution_count": 9,
      "metadata": {},
      "outputs": [],
      "source": [
        "len(v)"
      ]
    },
    {
      "cell_type": "code",
      "execution_count": 10,
      "metadata": {},
      "outputs": [],
      "source": [
        "v[1]"
      ]
    },
    {
      "cell_type": "code",
      "execution_count": 11,
      "metadata": {},
      "outputs": [],
      "source": [
        "for component in v:\n",
        "    print(component)"
      ]
    },
    {
      "cell_type": "markdown",
      "metadata": {},
      "source": [
        "### Vector class that does addition"
      ]
    },
    {
      "cell_type": "code",
      "execution_count": 12,
      "metadata": {},
      "outputs": [],
      "source": [
        "class Vector:\n",
        "    \n",
        "    def __init__(self, lst):\n",
        "        self.storage = lst\n",
        "        \n",
        "    def __len__(self):\n",
        "        return len(self.storage)\n",
        "    \n",
        "    def __getitem__(self, i):\n",
        "        return self.storage[i]\n",
        "\n",
        "    def __add__(self, other_vector):\n",
        "        sumlist = []\n",
        "        for i, _ in enumerate(other_vector):\n",
        "            sumlist.append(self.storage[i] + other_vector[i])\n",
        "        return Vector(sumlist)\n",
        "    \n",
        "    def __repr__(self):\n",
        "        return f\"Vector({self.storage})\""
      ]
    },
    {
      "cell_type": "code",
      "execution_count": 13,
      "metadata": {},
      "outputs": [],
      "source": [
        "v1 = Vector([4, 2, 7])\n",
        "v2 = Vector([1, -1, 3])\n",
        "v1+v2"
      ]
    },
    {
      "cell_type": "markdown",
      "metadata": {},
      "source": [
        "This is what happens when we do the addition:"
      ]
    },
    {
      "cell_type": "code",
      "execution_count": 14,
      "metadata": {},
      "outputs": [],
      "source": [
        "v1.__add__(v2)"
      ]
    },
    {
      "cell_type": "markdown",
      "metadata": {},
      "source": [
        "We can add lists to vectors: why? This is the beauty of Python protocols: lists support iteration and thus we just iterate over them and add one by one."
      ]
    },
    {
      "cell_type": "code",
      "execution_count": 15,
      "metadata": {},
      "outputs": [],
      "source": [
        "v1 + [-1, -1, 3]"
      ]
    },
    {
      "cell_type": "code",
      "execution_count": 16,
      "metadata": {},
      "outputs": [],
      "source": [
        "v1 + range(3)"
      ]
    },
    {
      "cell_type": "markdown",
      "metadata": {},
      "source": [
        "But whats this? When we add a smaller list like object, the dimensionality of our vector gets truncated. This is a consequence of iterating over the \"other vector\", and not our own. "
      ]
    },
    {
      "cell_type": "code",
      "execution_count": 17,
      "metadata": {},
      "outputs": [],
      "source": [
        "v1 + range(2)"
      ]
    },
    {
      "cell_type": "markdown",
      "metadata": {},
      "source": [
        "As long as we stick to vectors, addition is *commutative*, as we ought to expect:"
      ]
    },
    {
      "cell_type": "code",
      "execution_count": 18,
      "metadata": {},
      "outputs": [],
      "source": [
        "v1 + v2"
      ]
    },
    {
      "cell_type": "code",
      "execution_count": 19,
      "metadata": {},
      "outputs": [],
      "source": [
        "v2 + v1"
      ]
    },
    {
      "cell_type": "markdown",
      "metadata": {},
      "source": [
        "But its not possible to add a list to a vector and we have lost commutativity!"
      ]
    },
    {
      "cell_type": "code",
      "execution_count": 20,
      "metadata": {},
      "outputs": [],
      "source": [
        "[-1, -1, 3] + v1"
      ]
    },
    {
      "cell_type": "markdown",
      "metadata": {},
      "source": [
        "Its not possible to add a number either. You might reasonably expect that adding a number here would add the number to every component, but we havent really implemented that..."
      ]
    },
    {
      "cell_type": "code",
      "execution_count": 21,
      "metadata": {},
      "outputs": [],
      "source": [
        "v1 + 5"
      ]
    },
    {
      "cell_type": "markdown",
      "metadata": {},
      "source": [
        "### Making addition commutative\n",
        "\n",
        "In the Python Data Model, dunder methods starting with `__r` need to be implemented to figure when the new class is on the right side of the operator. Here we define `__radd__`.\n",
        "\n",
        "Our implementation of `__radd__` simply reverses the direction of addition to take advantage of our working left addition.\n",
        "\n",
        "We also see an example of Python's error handling , using `try` and `catch`. If we get a type error (as in adding an integer) we return `NotImplemented` which allows Python to try right addition, in case the other type implements left addition with something like a vector (this is not true for integers)"
      ]
    },
    {
      "cell_type": "code",
      "execution_count": 27,
      "metadata": {},
      "outputs": [],
      "source": [
        "class Vector:\n",
        "    \n",
        "    def __init__(self, lst):\n",
        "        self.storage = lst\n",
        "        \n",
        "    def __len__(self):\n",
        "        return len(self.storage)\n",
        "    \n",
        "    def __getitem__(self, i):\n",
        "        return self.storage[i]\n",
        "\n",
        "    def __add__(self, other_vector):\n",
        "        try:\n",
        "            sumlist = []\n",
        "            print(\"hello\")\n",
        "            for i, _ in enumerate(other_vector):\n",
        "                sumlist.append(self.storage[i] + other_vector[i])\n",
        "            return Vector(sumlist)\n",
        "        except TypeError:\n",
        "            return NotImplemented\n",
        "    \n",
        "    def __radd__(self, other_vector):\n",
        "        # turn other + self around\n",
        "        return self + other_vector\n",
        "    \n",
        "    def __repr__(self):\n",
        "        return f\"Vector({self.storage})\""
      ]
    },
    {
      "cell_type": "code",
      "execution_count": 28,
      "metadata": {},
      "outputs": [],
      "source": [
        "v1 = Vector([4, 2, 7])\n",
        "v2 = Vector([1, -1, 3])\n",
        "v1+v2"
      ]
    },
    {
      "cell_type": "code",
      "execution_count": 29,
      "metadata": {},
      "outputs": [],
      "source": [
        "v1 + [-1, -1, 3]"
      ]
    },
    {
      "cell_type": "code",
      "execution_count": 30,
      "metadata": {},
      "outputs": [],
      "source": [
        "[-1, -1, 3] + v1"
      ]
    },
    {
      "cell_type": "code",
      "execution_count": 35,
      "metadata": {},
      "outputs": [],
      "source": [
        "v1 + 5"
      ]
    },
    {
      "cell_type": "markdown",
      "metadata": {},
      "source": [
        "## Adding in scalar multiplication\n",
        "\n",
        "Multiplication must be *commutative*, that is, putting the vector first or the scalar first should not make a difference. Here, we'll have to define `__mul__` and `__rmul__`."
      ]
    },
    {
      "cell_type": "code",
      "execution_count": 36,
      "metadata": {},
      "outputs": [],
      "source": [
        "class Vector:\n",
        "    \n",
        "    def __init__(self, lst):\n",
        "        self.storage = lst\n",
        "        \n",
        "    def __len__(self):\n",
        "        return len(self.storage)\n",
        "    \n",
        "    def __getitem__(self, i):\n",
        "        return self.storage[i]\n",
        "\n",
        "    def __add__(self, other_vector):\n",
        "        try:\n",
        "            sumlist = []\n",
        "            for i, _ in enumerate(other_vector):\n",
        "                sumlist.append(self._storage[i] + other_vector[i])\n",
        "            return Vector(sumlist)\n",
        "        except TypeError:\n",
        "            return NotImplemented\n",
        "\n",
        "    def __radd__(self, other_vector):\n",
        "        # turn other + self around\n",
        "        return self + other_vector\n",
        "    \n",
        "    def __mul__(self, scalar):\n",
        "        return Vector([item*scalar for item in self.storage])\n",
        "\n",
        "    def __rmul__(self, scalar):\n",
        "        return self*scalar\n",
        "    \n",
        "    def __repr__(self):\n",
        "        return f\"Vector({self.storage})\""
      ]
    },
    {
      "cell_type": "code",
      "execution_count": 37,
      "metadata": {},
      "outputs": [],
      "source": [
        "v1 = Vector([4, 2])\n",
        "\u03bb = 3.0\n",
        "v2 = v1*\u03bb\n",
        "v2"
      ]
    },
    {
      "cell_type": "code",
      "execution_count": 38,
      "metadata": {},
      "outputs": [],
      "source": [
        "v3 = \u03bb*v1\n",
        "v3"
      ]
    }
  ]
}